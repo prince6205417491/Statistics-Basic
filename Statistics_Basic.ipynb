{
  "nbformat": 4,
  "nbformat_minor": 0,
  "metadata": {
    "colab": {
      "provenance": []
    },
    "kernelspec": {
      "name": "python3",
      "display_name": "Python 3"
    },
    "language_info": {
      "name": "python"
    }
  },
  "cells": [
    {
      "cell_type": "markdown",
      "source": [
        "# **Statistics Basics**"
      ],
      "metadata": {
        "id": "7Ux-K_h7FyRY"
      }
    },
    {
      "cell_type": "markdown",
      "source": [
        "**Q1.What is statistics, and why is it important?**"
      ],
      "metadata": {
        "id": "wx3sXpOeGDFn"
      }
    },
    {
      "cell_type": "markdown",
      "source": [
        "**Ans:-**Statistics turns raw data into meaningful insights. It’s essential in nearly every field—from healthcare and engineering to economics and social sciences—because it helps us understand the world, make predictions, and solve problems systematically."
      ],
      "metadata": {
        "id": "-RgghHhgGIZs"
      }
    },
    {
      "cell_type": "markdown",
      "source": [
        "**Q2.What are the two main types of statistics?**"
      ],
      "metadata": {
        "id": "sXkONuulGdH9"
      }
    },
    {
      "cell_type": "markdown",
      "source": [
        "**Ans:-**1. Descriptive Statistics:-Descriptive statistics summarize and organize data so it can be easily understood.\n",
        "2.Inferential Statistics:-Inferential statistics use a sample of data to make predictions, estimates, or generalizations about a larger population."
      ],
      "metadata": {
        "id": "2a5lXqZIGhki"
      }
    },
    {
      "cell_type": "markdown",
      "source": [
        "**Q3.What are descriptive statistics?**"
      ],
      "metadata": {
        "id": "5C3VOZywG1wT"
      }
    },
    {
      "cell_type": "markdown",
      "source": [
        "**Ans:-**Descriptive statistics are methods used to summarize, organize, and present data in an informative way. They help you understand the basic features of a dataset without making conclusions beyond the data itself.\n",
        "\n"
      ],
      "metadata": {
        "id": "mLxIL1hZG6-7"
      }
    },
    {
      "cell_type": "markdown",
      "source": [
        "**Q4.What is inferential statistics?**"
      ],
      "metadata": {
        "id": "YTI7u9UoHCGL"
      }
    },
    {
      "cell_type": "markdown",
      "source": [
        "**Ans:-:**Inferential statistics is the branch of statistics that allows you to make predictions, draw conclusions, or test hypotheses about a population based on a sample of data."
      ],
      "metadata": {
        "id": "Pmu8KMa4HGZ3"
      }
    },
    {
      "cell_type": "markdown",
      "source": [
        "**Q5. What is sampling in statistics?**"
      ],
      "metadata": {
        "id": "R1WClPc5HMOz"
      }
    },
    {
      "cell_type": "markdown",
      "source": [
        "**Ans:-**Sampling in statistics is the process of selecting a subset (sample) from a larger group (population) to analyze and draw conclusions about the whole population.\n",
        "\n"
      ],
      "metadata": {
        "id": "bdTJVbU4HQGn"
      }
    },
    {
      "cell_type": "markdown",
      "source": [
        "**Q6.What are the different types of sampling methods?**"
      ],
      "metadata": {
        "id": "hks3Ub8aHWhB"
      }
    },
    {
      "cell_type": "markdown",
      "source": [
        "**Ans:-**1. **Simple Random Sampling**:- A sampling method where each individual in the population has an equal chance of being selected.\n",
        "\n",
        "2. **Stratified Sampling**:- The population is divided into subgroups (strata) based on shared characteristics (e.g., age, gender), and a random sample is taken from each stratum.\n",
        "\n",
        "3. **Systematic Sampling**:- A sample is drawn by selecting every kth individual from a list after a random starting point.\n",
        "\n",
        "4. **Cluster Sampling**:- The population is divided into groups (clusters), and entire clusters are randomly selected for study.\n",
        "✅ Example: Randomly selecting entire classrooms rather than individual students."
      ],
      "metadata": {
        "id": "LYue9sK6HcMu"
      }
    },
    {
      "cell_type": "markdown",
      "source": [
        "**Q7. What is the difference between random and non-random sampling?**"
      ],
      "metadata": {
        "id": "9h7A7DHuIOR1"
      }
    },
    {
      "cell_type": "markdown",
      "source": [
        "**Ans:-** **Random Sampling **\n",
        "A sampling method where every member of the population has a known and equal chance of being selected.\n",
        "\n",
        "Key Characteristics:\n",
        "\n",
        "1.Selection is based on chance.\n",
        "\n",
        "2.Helps to reduce bias.\n",
        "\n",
        "3.Results are more likely to be representative of the population.\n",
        "\n",
        "4.Allows for statistical generalization.\n",
        "\n",
        "**Non-Random Sampling **\n",
        "A sampling method where not every member has a known or equal chance of being included. Selection is based on researcher judgment, convenience, or accessibility.\n",
        "\n",
        "Key Characteristics:\n",
        "\n",
        "1.Selection is not based on random chance.\n",
        "\n",
        "2.Higher risk of bias.\n",
        "\n",
        "3.Results may not represent the whole population.\n",
        "\n",
        "4.Cannot reliably generalize to the population."
      ],
      "metadata": {
        "id": "2LbijCgaITxn"
      }
    },
    {
      "cell_type": "markdown",
      "source": [
        "**Q8. Define and give examples of qualitative and quantitative data?**"
      ],
      "metadata": {
        "id": "9v8a_ON_JICy"
      }
    },
    {
      "cell_type": "markdown",
      "source": [
        "**Ans:-** **1. Qualitative Data**:-Qualitative data is descriptive, non-numerical information that describes qualities or characteristics.\n",
        "Examples:\n",
        "Colors: red, blue, green\n",
        "\n",
        "Gender: male, female, non-binary\n",
        "\n",
        "Eye color: brown, blue, hazel\n",
        "\n",
        "Customer feedback: \"Excellent service\", \"Poor quality\"\n",
        "\n",
        "Marital status: single, married, divorced\n",
        "\n",
        "**2. Quantitative Data**:-Quantitative data is numerical data that can be counted or measured and can be used in mathematical calculations.\n",
        "Examples:\n",
        "Age: 18, 25, 42\n",
        "\n",
        "Height: 5.6 feet, 170 cm\n",
        "\n",
        "Number of students in a class: 30\n",
        "\n",
        "Temperature: 36.5°C\n",
        "\n",
        "Monthly income: $2,500"
      ],
      "metadata": {
        "id": "MnwRVRduJU26"
      }
    },
    {
      "cell_type": "markdown",
      "source": [
        "**Q9.What are the different types of data in statistics?**"
      ],
      "metadata": {
        "id": "JcHlDsVHJt5z"
      }
    },
    {
      "cell_type": "markdown",
      "source": [
        "**Ans:-** **1.Qualitative Data** :-Data that describes attributes or categories and cannot be measured with numbers.\n",
        "**Types of Qualitative Data**:\n",
        "i.**Nominal Data**:-Categories without any order or ranking.\n",
        "ii.**Ordinal Data**:-Categories with a meaningful order or ranking, but differences between ranks are not consistent.\n",
        "\n",
        "**2. Quantitative Data**:-Data that consists of numbers and represents measurable quantities.\n",
        "**Types of Quantitative Data**:\n",
        "i.**Discrete Data**:-Countable values, often whole numbers.\n",
        "ii.**Continuous Data**:-Values that can take any number within a range, including decimals"
      ],
      "metadata": {
        "id": "9bQiaYqrJydM"
      }
    },
    {
      "cell_type": "markdown",
      "source": [
        "**Q10. Explain nominal, ordinal, interval, and ratio levels of measurement?**"
      ],
      "metadata": {
        "id": "axrp6dPjLTtG"
      }
    },
    {
      "cell_type": "markdown",
      "source": [
        "**Ans:-**1. **Nominal Level**:-Data are categorized into distinct groups or categories without any order or ranking.\n",
        "**Characteristics:**\n",
        "\n",
        "i.Categories are names or labels only.\n",
        "\n",
        "ii.No mathematical operations make sense.\n",
        "\n",
        "**2. Ordinal Level**:-Data are categorized with a meaningful order or ranking, but the differences between ranks are not necessarily equal.\n",
        "**Characteristics:**\n",
        "\n",
        "i.You can say one is higher or lower than another.\n",
        "\n",
        "ii.You cannot perform meaningful addition or subtraction.\n",
        "\n",
        "**3. Interval Level**:-Data have ordered categories with meaningful and equal intervals between values, but no true zero point.\n",
        "**Characteristics:**\n",
        "\n",
        "i.Differences between values are meaningful.\n",
        "\n",
        "ii.Ratios (multiplication/division) are not meaningful because zero is arbitrary.\n",
        "\n",
        "**4. Ratio Level**:-Data have all the properties of interval data, plus a true zero point, which means zero indicates the absence of the quantity.\n",
        "**Characteristics:**\n",
        "\n",
        "i.You can perform all mathematical operations including ratios.\n",
        "\n",
        "ii.Multiplying or dividing values makes sense."
      ],
      "metadata": {
        "id": "WcbCSLhtLX-2"
      }
    },
    {
      "cell_type": "markdown",
      "source": [
        "**Q11.What is the measure of central tendency?**"
      ],
      "metadata": {
        "id": "EIHM6OCqMUBG"
      }
    },
    {
      "cell_type": "markdown",
      "source": [
        "**Ans:-**Measure of central tendency refers to a statistical value that represents the center or typical value of a dataset."
      ],
      "metadata": {
        "id": "9q6UpYYnMZ-T"
      }
    },
    {
      "cell_type": "markdown",
      "source": [
        "**Q12.Define mean, median, and mode?**"
      ],
      "metadata": {
        "id": "6RtCV5XoMhoP"
      }
    },
    {
      "cell_type": "markdown",
      "source": [
        "**Ans:-** **1.Mean**:-The mean (or average) is the sum of all the values in a dataset divided by the number of values.\n",
        "\n",
        "**2. Median**:The median is the middle value in an ordered dataset (from smallest to largest). If there is an even number of values, the median is the average of the two middle numbers.\n",
        "\n",
        "**3. Mode**:-The mode is the value that occurs most frequently in the dataset. A dataset may have one mode, more than one mode, or no mode if no value repeats."
      ],
      "metadata": {
        "id": "1czJwZstMm1S"
      }
    },
    {
      "cell_type": "markdown",
      "source": [
        "**Q13.What is the significance of the measure of central tendency?**"
      ],
      "metadata": {
        "id": "a8f0TslhNMzp"
      }
    },
    {
      "cell_type": "markdown",
      "source": [
        "**Ans:-**The measure of central tendency is significant because it helps summarize a large set of data by identifying a single value that represents the center or typical member of the dataset."
      ],
      "metadata": {
        "id": "1qgGtZECNQwC"
      }
    },
    {
      "cell_type": "markdown",
      "source": [
        "**Q14.What is variance, and how is it calculated?**"
      ],
      "metadata": {
        "id": "xql7z-mhNYkC"
      }
    },
    {
      "cell_type": "markdown",
      "source": [
        "**Ans:-**Variance is a measure of how much the values in a dataset spread out or differ from the mean (average). It shows the degree of dispersion or variability in the data.\n",
        "\n",
        "**Variance Is Calculated:**\n",
        "i.Calculate the mean (average) of the data set.\n",
        "\n",
        "ii.Subtract the mean from each data point to find the deviation of each value.\n",
        "\n",
        "iii.Square each deviation (to make all values positive).\n",
        "\n",
        "iv.Find the average of these squared deviations."
      ],
      "metadata": {
        "id": "sj2-jy-yNdwy"
      }
    },
    {
      "cell_type": "markdown",
      "source": [
        "**Q15.What is standard deviation, and why is it important?**"
      ],
      "metadata": {
        "id": "LgGfVBxWONg2"
      }
    },
    {
      "cell_type": "markdown",
      "source": [
        "**Ans:-**Standard deviation is a measure of how much the values in a dataset deviate or spread out from the mean (average).\n",
        "\n",
        "**important**:-\n",
        "i.It tells us how consistent or spread out the data is.\n",
        "\n",
        "ii.A small standard deviation means data points are close to the mean (less variability).\n",
        "\n",
        "iii.A large standard deviation means data points are spread out over a wider range (more variability).\n",
        "\n",
        "iv.Because it has the same units as the data, it is easier to interpret than variance.\n",
        "\n",
        "v.It is essential in many statistical analyses, including hypothesis testing and confidence intervals."
      ],
      "metadata": {
        "id": "dKwONxhgOSSG"
      }
    },
    {
      "cell_type": "markdown",
      "source": [
        "**Q16.Define and explain the term range in statistics.**"
      ],
      "metadata": {
        "id": "0-G4K-L0O1Tt"
      }
    },
    {
      "cell_type": "markdown",
      "source": [
        "**Ans:-**The range in statistics is the simplest measure of dispersion or spread in a dataset. It is the difference between the maximum and minimum values in the data.\n",
        "\n",
        "**Explanation**:\n",
        "\n",
        "i.The range gives a quick idea of how spread out the values are.\n",
        "\n",
        "ii.It tells you the total extent of the data from the smallest to the largest value.\n",
        "\n",
        "iii.It is easy to calculate but can be heavily influenced by extreme values (outliers).\n"
      ],
      "metadata": {
        "id": "HFNMcIMOPAuf"
      }
    },
    {
      "cell_type": "markdown",
      "source": [
        "**Q17.What is the difference between variance and standard deviation?**"
      ],
      "metadata": {
        "id": "-st-nnJpRuii"
      }
    },
    {
      "cell_type": "markdown",
      "source": [
        "**Ans:-Variance**:-Variance measures the average of the squared differences between each data point and the mean. It shows how spread out the data values are, but because the differences are squared, the result is in squared units of the original data.\n",
        "\n",
        "**Standard deviation**:- Standard deviation is the square root of the variance. It measures the average amount by which data values deviate from the mean and is expressed in the same units as the original data, making it easier to interpret."
      ],
      "metadata": {
        "id": "fSA_GYSZR0L6"
      }
    },
    {
      "cell_type": "markdown",
      "source": [
        "**Q18.What is skewness in a dataset?**"
      ],
      "metadata": {
        "id": "T_IHYjuxSMXT"
      }
    },
    {
      "cell_type": "markdown",
      "source": [
        "**Ans:-**Skewness is a measure of the asymmetry or lopsidedness of the distribution of data in a dataset.\n",
        "\n",
        "i.It tells us whether the data is symmetrical or leans more to one side (left or right).\n",
        "\n",
        "ii.Skewness helps understand the shape and direction of the data distribution.\n",
        "\n"
      ],
      "metadata": {
        "id": "f0eTRJVrSTDv"
      }
    },
    {
      "cell_type": "markdown",
      "source": [
        "**Q19.What does it mean if a dataset is positively or negatively skewed?**"
      ],
      "metadata": {
        "id": "zcwOaeuiSdIA"
      }
    },
    {
      "cell_type": "markdown",
      "source": [
        "**Ans:-** **Positively Skewed Dataset (Right Skewed)**\n",
        "\n",
        "i.The tail on the right side (higher values) is longer or stretched out.\n",
        "\n",
        "ii.Most data points are clustered on the left (lower values).\n",
        "\n",
        "iii.The mean is usually greater than the median because the few large values pull the mean up.\n",
        "\n",
        "**Example**: Income distribution where a few people earn very high amounts, but most earn less.\n",
        "\n",
        "**Negatively Skewed Dataset (Left Skewed)**\n",
        "i.The tail on the left side (lower values) is longer or stretched out.\n",
        "\n",
        "ii.Most data points are clustered on the right (higher values).\n",
        "\n",
        "iii.The mean is usually less than the median because the few low values pull the mean down.\n",
        "\n",
        "**Example**: Age at retirement where most retire around a certain age, but some retire very early."
      ],
      "metadata": {
        "id": "n1vLLr_5So5-"
      }
    },
    {
      "cell_type": "markdown",
      "source": [
        "**Q20.Define and explain kurtosis?**"
      ],
      "metadata": {
        "id": "Iv1Y9MyWTC_i"
      }
    },
    {
      "cell_type": "markdown",
      "source": [
        "**Ans:-**Kurtosis is a statistical measure that describes the shape of the tails and the peakedness of a data distribution compared to a normal distribution.\n",
        "\n",
        "**It tells us whether the data has**:\n",
        "\n",
        "Heavy tails (more extreme values/outliers) or\n",
        "\n",
        "Light tails (fewer extreme values) than a normal distribution."
      ],
      "metadata": {
        "id": "cs97QwN4TNhu"
      }
    },
    {
      "cell_type": "markdown",
      "source": [
        "**Q21.What is the purpose of covariance?**"
      ],
      "metadata": {
        "id": "tx1jLoStTSwc"
      }
    },
    {
      "cell_type": "markdown",
      "source": [
        "**Ans:-**The purpose of covariance is to determine how two variables change together — whether they move in the same direction (positive covariance), opposite directions (negative covariance), or show no relationship (covariance near zero)."
      ],
      "metadata": {
        "id": "iqvGrDqITohT"
      }
    },
    {
      "cell_type": "markdown",
      "source": [
        "**Q22. What does correlation measure in statistics?**"
      ],
      "metadata": {
        "id": "pW2QqRcNTq-T"
      }
    },
    {
      "cell_type": "markdown",
      "source": [
        "**Ans:-**Correlation in statistics is a measure that quantifies the strength and direction of the linear relationship between two variables."
      ],
      "metadata": {
        "id": "M1gDD9EwUB1E"
      }
    },
    {
      "cell_type": "markdown",
      "source": [
        "**Q23.What is the difference between covariance and correlation?**"
      ],
      "metadata": {
        "id": "km2VJq9PUFE3"
      }
    },
    {
      "cell_type": "markdown",
      "source": [
        "**Ans:-** **Covariance measures**:- Covariance measures the direction of the linear relationship between two variables — whether they move together or in opposite directions.\n",
        "\n",
        "**Range**: From –∞ to +∞\n",
        "\n",
        "**Units**: Depends on the units of the variables (not standardized)\n",
        "\n",
        "**Interpretation**:\n",
        "\n",
        "Positive → variables increase together\n",
        "\n",
        "Negative → one increases, the other decreases\n",
        "\n",
        "Zero → no linear relationship\n",
        "\n",
        "**Correlation measures**:- Correlation measures both the strength and direction of a linear relationship between two variables. It is a standardized version of covariance.\n",
        "\n",
        "**Range**: From –1 to +1\n",
        "\n",
        "**Units**: Unitless\n",
        "\n",
        "**Interpretation**:\n",
        "\n",
        "+1 → perfect positive linear relationship\n",
        "\n",
        "–1 → perfect negative linear relationship\n",
        "\n",
        "0 → no linear relationship"
      ],
      "metadata": {
        "id": "ZIFQz1RcUlif"
      }
    },
    {
      "cell_type": "markdown",
      "source": [
        "**Q24.What are some real-world applications of statistics?**"
      ],
      "metadata": {
        "id": "tVpAWc1NVJIL"
      }
    },
    {
      "cell_type": "markdown",
      "source": [
        "**Ans:-**Statistics is used to collect, analyze, interpret, and present data in order to make informed decisions in real-life situations."
      ],
      "metadata": {
        "id": "kgM2PeEDVecX"
      }
    },
    {
      "cell_type": "markdown",
      "source": [
        "# **Practical**"
      ],
      "metadata": {
        "id": "jCQevOeZVkYH"
      }
    },
    {
      "cell_type": "markdown",
      "source": [
        "**Q1. How do you calculate the mean, median, and mode of a dataset?**"
      ],
      "metadata": {
        "id": "LTgLBeCaVmMG"
      }
    },
    {
      "cell_type": "code",
      "source": [
        "import statistics\n",
        "data = [4, 6, 2, 8, 6, 4, 10]\n",
        "# Mean\n",
        "mean_value = statistics.mean(data)\n",
        "# Median\n",
        "median_value = statistics.median(data)\n",
        "# Mode\n",
        "mode_value = statistics.mode(data)\n",
        "\n",
        "print(\"Mean:\", mean_value)\n",
        "print(\"Median:\", median_value)\n",
        "print(\"Mode:\", mode_value)\n"
      ],
      "metadata": {
        "colab": {
          "base_uri": "https://localhost:8080/"
        },
        "id": "9B23XrGd0FKW",
        "outputId": "ba220fff-1e5a-45bf-da55-e1fb1c27e6f3"
      },
      "execution_count": 1,
      "outputs": [
        {
          "output_type": "stream",
          "name": "stdout",
          "text": [
            "Mean: 5.714285714285714\n",
            "Median: 6\n",
            "Mode: 4\n"
          ]
        }
      ]
    },
    {
      "cell_type": "markdown",
      "source": [
        "**Q2.Write a Python program to compute the variance and standard deviation of a dataset.**"
      ],
      "metadata": {
        "id": "IKHqQqEJ0ofy"
      }
    },
    {
      "cell_type": "code",
      "source": [
        "data = [4, 6, 2, 8, 6, 4, 10]\n",
        "\n",
        "# Calculate variance and standard deviation\n",
        "variance = statistics.variance(data)\n",
        "std_dev = statistics.stdev(data)\n",
        "\n",
        "# Output results\n",
        "print(\"Data:\", data)\n",
        "print(\"Variance:\", variance)\n",
        "print(\"Standard Deviation:\", std_dev)"
      ],
      "metadata": {
        "colab": {
          "base_uri": "https://localhost:8080/"
        },
        "id": "FF-FwVr8016D",
        "outputId": "51a00376-98b9-4489-a3b5-bee7c7572539"
      },
      "execution_count": 2,
      "outputs": [
        {
          "output_type": "stream",
          "name": "stdout",
          "text": [
            "Data: [4, 6, 2, 8, 6, 4, 10]\n",
            "Variance: 7.238095238095238\n",
            "Standard Deviation: 2.690370836538197\n"
          ]
        }
      ]
    },
    {
      "cell_type": "markdown",
      "source": [
        "**Q3.Create a dataset and classify it into nominal, ordinal, interval, and ratio types.**"
      ],
      "metadata": {
        "id": "ZWkuUmSF09IL"
      }
    },
    {
      "cell_type": "code",
      "source": [
        "import pandas as pd\n",
        "\n",
        "# Create a sample dataset\n",
        "data = {\n",
        "    \"StudentName\": [\"Alice\", \"Bob\", \"Charlie\", \"Diana\"],            # Nominal\n",
        "    \"ClassLevel\": [\"10th\", \"12th\", \"11th\", \"10th\"],                 # Ordinal\n",
        "    \"Satisfaction\": [\"Satisfied\", \"Neutral\", \"Very Satisfied\", \"Dissatisfied\"],  # Ordinal\n",
        "    \"TestScore_C\": [85, 90, 88, 78],                                # Interval\n",
        "    \"Height_cm\": [160, 175, 180, 165]                               # Ratio\n",
        "}\n",
        "\n",
        "# Load into a DataFrame\n",
        "df = pd.DataFrame(data)\n",
        "\n",
        "# Display the dataset\n",
        "print(df)\n",
        "\n",
        "# Classification:\n",
        "# StudentName     -> Nominal (labels with no order)\n",
        "# ClassLevel      -> Ordinal (has a meaningful order: 10th < 11th < 12th)\n",
        "# Satisfaction    -> Ordinal (ordered but not evenly spaced)\n",
        "# TestScore_C     -> Interval (numeric with equal intervals but no true zero)\n",
        "# Height_cm       -> Ratio (numeric with equal intervals and a true zero)\n"
      ],
      "metadata": {
        "colab": {
          "base_uri": "https://localhost:8080/"
        },
        "id": "ytmdDQ2d1YnK",
        "outputId": "7eb9ea9a-812d-4c7d-a54d-e030ddc6009d"
      },
      "execution_count": 3,
      "outputs": [
        {
          "output_type": "stream",
          "name": "stdout",
          "text": [
            "  StudentName ClassLevel    Satisfaction  TestScore_C  Height_cm\n",
            "0       Alice       10th       Satisfied           85        160\n",
            "1         Bob       12th         Neutral           90        175\n",
            "2     Charlie       11th  Very Satisfied           88        180\n",
            "3       Diana       10th    Dissatisfied           78        165\n"
          ]
        }
      ]
    },
    {
      "cell_type": "markdown",
      "source": [
        "**Q4. Implement sampling techniques like random sampling and stratified sampling.**"
      ],
      "metadata": {
        "id": "HrYykkuF1bTP"
      }
    },
    {
      "cell_type": "code",
      "source": [
        "import pandas as pd\n",
        "from sklearn.model_selection import train_test_split\n",
        "\n",
        "# Sample dataset\n",
        "data = {\n",
        "    \"StudentID\": range(1, 11),\n",
        "    \"Name\": [\"Alice\", \"Bob\", \"Charlie\", \"David\", \"Eva\", \"Frank\", \"Grace\", \"Hannah\", \"Ian\", \"Jane\"],\n",
        "    \"Class\": [\"10th\", \"10th\", \"11th\", \"11th\", \"12th\", \"10th\", \"12th\", \"11th\", \"12th\", \"12th\"],\n",
        "    \"Score\": [85, 70, 90, 75, 88, 82, 91, 77, 89, 95]\n",
        "}\n",
        "\n",
        "df = pd.DataFrame(data)\n",
        "print(\"Original Dataset:\")\n",
        "print(df)\n"
      ],
      "metadata": {
        "colab": {
          "base_uri": "https://localhost:8080/"
        },
        "id": "lX9Yw3vZ1iZG",
        "outputId": "43671e1b-101f-4620-8437-e62b299e6710"
      },
      "execution_count": 4,
      "outputs": [
        {
          "output_type": "stream",
          "name": "stdout",
          "text": [
            "Original Dataset:\n",
            "   StudentID     Name Class  Score\n",
            "0          1    Alice  10th     85\n",
            "1          2      Bob  10th     70\n",
            "2          3  Charlie  11th     90\n",
            "3          4    David  11th     75\n",
            "4          5      Eva  12th     88\n",
            "5          6    Frank  10th     82\n",
            "6          7    Grace  12th     91\n",
            "7          8   Hannah  11th     77\n",
            "8          9      Ian  12th     89\n",
            "9         10     Jane  12th     95\n"
          ]
        }
      ]
    },
    {
      "cell_type": "markdown",
      "source": [
        "**Q5. Write a Python function to calculate the range of a dataset.**"
      ],
      "metadata": {
        "id": "AuRJcGzf1v1b"
      }
    },
    {
      "cell_type": "code",
      "source": [
        "def calculate_range(data):\n",
        "    if not data:\n",
        "        return None  # Handle empty list\n",
        "    data_range = max(data) - min(data)\n",
        "    return data_range\n",
        "\n",
        "# Example usage\n",
        "dataset = [10, 25, 5, 40, 15]\n",
        "range_result = calculate_range(dataset)\n",
        "print(\"Range of the dataset:\", range_result)\n"
      ],
      "metadata": {
        "colab": {
          "base_uri": "https://localhost:8080/"
        },
        "id": "TRfi8SgD16iT",
        "outputId": "47d99a41-aa69-43b0-aaed-bc39ca204701"
      },
      "execution_count": 5,
      "outputs": [
        {
          "output_type": "stream",
          "name": "stdout",
          "text": [
            "Range of the dataset: 35\n"
          ]
        }
      ]
    },
    {
      "cell_type": "markdown",
      "source": [
        "**Q6.Create a dataset and plot its histogram to visualize skewness.**"
      ],
      "metadata": {
        "id": "zefkbIid19EX"
      }
    },
    {
      "cell_type": "code",
      "source": [
        "import numpy as np\n",
        "import pandas as pd\n",
        "import matplotlib.pyplot as plt\n",
        "import seaborn as sns\n",
        "\n",
        "# Create a positively skewed dataset using exponential distribution\n",
        "np.random.seed(42)\n",
        "data = np.random.exponential(scale=2.0, size=1000)\n",
        "\n",
        "# Convert to DataFrame\n",
        "df = pd.DataFrame(data, columns=[\"Values\"])\n",
        "\n",
        "# Plot the histogram\n",
        "plt.figure(figsize=(8, 5))\n",
        "sns.histplot(df[\"Values\"], bins=30, kde=True, color='skyblue')\n",
        "plt.title(\"Histogram to Visualize Skewness\")\n",
        "plt.xlabel(\"Value\")\n",
        "plt.ylabel(\"Frequency\")\n",
        "plt.grid(True)\n",
        "plt.show()\n"
      ],
      "metadata": {
        "colab": {
          "base_uri": "https://localhost:8080/",
          "height": 487
        },
        "id": "HXmLenxC2IBT",
        "outputId": "73e85cff-d404-4857-e7da-2241cd611c4f"
      },
      "execution_count": 6,
      "outputs": [
        {
          "output_type": "display_data",
          "data": {
            "text/plain": [
              "<Figure size 800x500 with 1 Axes>"
            ],
            "image/png": "[encoded data removed]"
          },
          "metadata": {}
        }
      ]
    },
    {
      "cell_type": "markdown",
      "source": [
        "**Q7.Calculate skewness and kurtosis of a dataset using Python libraries.**"
      ],
      "metadata": {
        "id": "1I05vta-2KgX"
      }
    },
    {
      "cell_type": "code",
      "source": [
        "import numpy as np\n",
        "import pandas as pd\n",
        "from scipy.stats import skew, kurtosis\n",
        "\n",
        "np.random.seed(42)\n",
        "data = np.random.exponential(scale=2.0, size=1000)\n",
        "\n",
        "series = pd.Series(data)\n",
        "\n",
        "data_skewness = skew(series)\n",
        "data_kurtosis = kurtosis(series)  # Default: Fisher's definition (normal dist = 0)\n",
        "\n",
        "print(\"Skewness:\", data_skewness)\n",
        "print(\"Kurtosis:\", data_kurtosis)\n"
      ],
      "metadata": {
        "colab": {
          "base_uri": "https://localhost:8080/"
        },
        "id": "WGJSv5dg2WVC",
        "outputId": "aa9b9ea8-5b73-4ddf-a338-2120929672d4"
      },
      "execution_count": 7,
      "outputs": [
        {
          "output_type": "stream",
          "name": "stdout",
          "text": [
            "Skewness: 1.865034222864843\n",
            "Kurtosis: 5.2178275282033955\n"
          ]
        }
      ]
    },
    {
      "cell_type": "markdown",
      "source": [
        "**Q8. Generate a dataset and demonstrate positive and negative skewness.**"
      ],
      "metadata": {
        "id": "4LyKhupE2ew-"
      }
    },
    {
      "cell_type": "code",
      "source": [
        "import numpy as np\n",
        "import matplotlib.pyplot as plt\n",
        "import seaborn as sns\n",
        "\n",
        "positive_skew = np.random.exponential(scale=2.0, size=1000)\n",
        "\n",
        "negative_skew = -np.random.exponential(scale=2.0, size=1000)\n",
        "\n",
        "# Plotting\n",
        "plt.figure(figsize=(12, 5))\n",
        "\n",
        "# Positive Skewness\n",
        "plt.subplot(1, 2, 1)\n",
        "sns.histplot(positive_skew, bins=30, kde=True, color='blue')\n",
        "plt.title('Positive Skewness')\n",
        "plt.xlabel('Value')\n",
        "plt.ylabel('Frequency')\n",
        "\n",
        "# Negative Skewness\n",
        "plt.subplot(1, 2, 2)\n",
        "sns.histplot(negative_skew, bins=30, kde=True, color='red')\n",
        "plt.title('Negative Skewness')\n",
        "plt.xlabel('Value')\n",
        "plt.ylabel('Frequency')\n",
        "\n",
        "plt.tight_layout()\n",
        "plt.show()\n"
      ],
      "metadata": {
        "colab": {
          "base_uri": "https://localhost:8080/",
          "height": 507
        },
        "id": "RntdcT7u2jc6",
        "outputId": "bba8a06f-5928-450d-e4c6-804c7de34530"
      },
      "execution_count": 8,
      "outputs": [
        {
          "output_type": "display_data",
          "data": {
            "text/plain": [
              "<Figure size 1200x500 with 2 Axes>"
            ],
            "image/png": "[encoded data removed]"
          },
          "metadata": {}
        }
      ]
    },
    {
      "cell_type": "markdown",
      "source": [
        "**Q9.Write a Python script to calculate covariance between two datasets.**"
      ],
      "metadata": {
        "id": "2_T0f5lj2uYO"
      }
    },
    {
      "cell_type": "code",
      "source": [
        "import numpy as np\n",
        "\n",
        "# Sample datasets\n",
        "x = [2, 4, 6, 8, 10]\n",
        "y = [1, 3, 5, 7, 9]\n",
        "\n",
        "# Manual calculation of covariance\n",
        "def calculate_covariance(x, y):\n",
        "    n = len(x)\n",
        "    mean_x = sum(x) / n\n",
        "    mean_y = sum(y) / n\n",
        "    cov = sum((xi - mean_x) * (yi - mean_y) for xi, yi in zip(x, y)) / (n - 1)\n",
        "    return cov\n",
        "\n",
        "cov_manual = calculate_covariance(x, y)\n",
        "\n",
        "# Using NumPy's built-in function\n",
        "cov_matrix = np.cov(x, y)\n",
        "cov_numpy = cov_matrix[0, 1]  # Covariance between x and y\n",
        "\n",
        "print(f\"Manual Covariance: {cov_manual}\")\n",
        "print(f\"NumPy Covariance: {cov_numpy}\")\n"
      ],
      "metadata": {
        "colab": {
          "base_uri": "https://localhost:8080/"
        },
        "id": "TvvSuJJP2y7m",
        "outputId": "98fa36d1-5362-4ab8-9b34-1dc71954d56d"
      },
      "execution_count": 9,
      "outputs": [
        {
          "output_type": "stream",
          "name": "stdout",
          "text": [
            "Manual Covariance: 10.0\n",
            "NumPy Covariance: 10.0\n"
          ]
        }
      ]
    },
    {
      "cell_type": "markdown",
      "source": [
        "**Q10.Write a Python script to calculate the correlation coefficient between two datasets.**"
      ],
      "metadata": {
        "id": "MDHDvW4q25M2"
      }
    },
    {
      "cell_type": "code",
      "source": [
        "import numpy as np\n",
        "\n",
        "# Sample datasets\n",
        "x = [2, 4, 6, 8, 10]\n",
        "y = [1, 3, 5, 7, 9]\n",
        "\n",
        "# Manual calculation of Pearson correlation coefficient\n",
        "def calculate_correlation(x, y):\n",
        "    n = len(x)\n",
        "    mean_x = sum(x) / n\n",
        "    mean_y = sum(y) / n\n",
        "\n",
        "    numerator = sum((xi - mean_x) * (yi - mean_y) for xi, yi in zip(x, y))\n",
        "    denominator_x = sum((xi - mean_x) ** 2 for xi in x)\n",
        "    denominator_y = sum((yi - mean_y) ** 2 for yi in y)\n",
        "\n",
        "    correlation = numerator / (denominator_x ** 0.5 * denominator_y ** 0.5)\n",
        "    return correlation\n",
        "\n",
        "corr_manual = calculate_correlation(x, y)\n",
        "\n",
        "# Using NumPy's built-in function\n",
        "corr_numpy = np.corrcoef(x, y)[0, 1]\n",
        "\n",
        "print(f\"Manual Correlation Coefficient: {corr_manual}\")\n",
        "print(f\"NumPy Correlation Coefficient: {corr_numpy}\")\n"
      ],
      "metadata": {
        "colab": {
          "base_uri": "https://localhost:8080/"
        },
        "id": "Y_yF9reF24Va",
        "outputId": "615b5d12-67fa-4554-b04f-3529075380c3"
      },
      "execution_count": 10,
      "outputs": [
        {
          "output_type": "stream",
          "name": "stdout",
          "text": [
            "Manual Correlation Coefficient: 0.9999999999999998\n",
            "NumPy Correlation Coefficient: 0.9999999999999999\n"
          ]
        }
      ]
    },
    {
      "cell_type": "markdown",
      "source": [
        "**Q11. Create a scatter plot to visualize the relationship between two variables.**"
      ],
      "metadata": {
        "id": "hq-KtrhX3EfW"
      }
    },
    {
      "cell_type": "code",
      "source": [
        "import matplotlib.pyplot as plt\n",
        "import seaborn as sns\n",
        "import pandas as pd\n",
        "\n",
        "# Sample data\n",
        "data = {\n",
        "    'X': [2, 4, 6, 8, 10],\n",
        "    'Y': [1, 3, 5, 7, 9]\n",
        "}\n",
        "\n",
        "df = pd.DataFrame(data)\n",
        "\n",
        "# Plotting scatter plot\n",
        "plt.figure(figsize=(8, 5))\n",
        "sns.scatterplot(x='X', y='Y', data=df, color='blue', s=100)\n",
        "\n",
        "plt.title('Scatter Plot: Relationship between X and Y')\n",
        "plt.xlabel('X')\n",
        "plt.ylabel('Y')\n",
        "plt.grid(True)\n",
        "plt.show()\n"
      ],
      "metadata": {
        "colab": {
          "base_uri": "https://localhost:8080/",
          "height": 487
        },
        "id": "bPIo0ZKy3Mdo",
        "outputId": "24892c0a-8060-477d-8ae7-5ce54b3de4e7"
      },
      "execution_count": 11,
      "outputs": [
        {
          "output_type": "display_data",
          "data": {
            "text/plain": [
              "<Figure size 800x500 with 1 Axes>"
            ],
            "image/png": "[encoded data removed]"
          },
          "metadata": {}
        }
      ]
    },
    {
      "cell_type": "markdown",
      "source": [
        "**Q12. Implement and compare simple random sampling and systematic sampling.**"
      ],
      "metadata": {
        "id": "QSMAMhr83M3Z"
      }
    },
    {
      "cell_type": "code",
      "source": [
        "import numpy as np\n",
        "import pandas as pd\n",
        "\n",
        "data = pd.DataFrame({'Item': range(1, 21)})\n",
        "\n",
        "sample_size = 5\n",
        "\n",
        "\n",
        "simple_random_sample = data.sample(n=sample_size, random_state=42)\n",
        "\n",
        "def systematic_sampling(df, sample_size):\n",
        "    n = len(df)\n",
        "    k = n // sample_size\n",
        "    start = np.random.randint(0, k)\n",
        "    indices = [(start + i*k) % n for i in range(sample_size)]\n",
        "    return df.iloc[indices]\n",
        "\n",
        "systematic_sample = systematic_sampling(data, sample_size)\n",
        "\n",
        "print(\"Original Dataset:\")\n",
        "print(data.T)\n",
        "\n",
        "print(\"\\nSimple Random Sample:\")\n",
        "print(simple_random_sample.T)\n",
        "\n",
        "print(\"\\nSystematic Sample:\")\n",
        "print(systematic_sample.T)\n"
      ],
      "metadata": {
        "colab": {
          "base_uri": "https://localhost:8080/"
        },
        "id": "wiheJoTB3Wl6",
        "outputId": "290bed54-a483-4dae-f301-e28515cedd04"
      },
      "execution_count": 12,
      "outputs": [
        {
          "output_type": "stream",
          "name": "stdout",
          "text": [
            "Original Dataset:\n",
            "      0   1   2   3   4   5   6   7   8   9   10  11  12  13  14  15  16  17  \\\n",
            "Item   1   2   3   4   5   6   7   8   9  10  11  12  13  14  15  16  17  18   \n",
            "\n",
            "      18  19  \n",
            "Item  19  20  \n",
            "\n",
            "Simple Random Sample:\n",
            "      0   17  15  1   8 \n",
            "Item   1  18  16   2   9\n",
            "\n",
            "Systematic Sample:\n",
            "      2   6   10  14  18\n",
            "Item   3   7  11  15  19\n"
          ]
        }
      ]
    },
    {
      "cell_type": "markdown",
      "source": [
        "**Q13.Calculate the mean, median, and mode of grouped data.**"
      ],
      "metadata": {
        "id": "nDPrZDR03W8r"
      }
    },
    {
      "cell_type": "code",
      "source": [
        "import numpy as np\n",
        "import pandas as pd\n",
        "\n",
        "data = {\n",
        "    \"ClassInterval\": [\"10-20\", \"20-30\", \"30-40\", \"40-50\", \"50-60\"],\n",
        "    \"Frequency\": [5, 8, 12, 7, 3]\n",
        "}\n",
        "\n",
        "df = pd.DataFrame(data)\n",
        "\n",
        "def midpoint(interval):\n",
        "    lower, upper = map(int, interval.split('-'))\n",
        "    return (lower + upper) / 2\n",
        "\n",
        "df['Midpoint'] = df['ClassInterval'].apply(midpoint)\n",
        "\n",
        "N = df['Frequency'].sum()\n",
        "\n",
        "mean = (df['Frequency'] * df['Midpoint']).sum() / N\n",
        "\n",
        "df['CumulativeFreq'] = df['Frequency'].cumsum()\n",
        "median_class_index = df[df['CumulativeFreq'] >= N/2].index[0]\n",
        "\n",
        "L = int(df.loc[median_class_index, 'ClassInterval'].split('-')[0])\n",
        "F = df.loc[median_class_index - 1, 'CumulativeFreq'] if median_class_index != 0 else 0\n",
        "f = df.loc[median_class_index, 'Frequency']\n",
        "h = int(df.loc[median_class_index, 'ClassInterval'].split('-')[1]) - L\n",
        "\n",
        "median = L + ((N/2 - F) / f) * h\n",
        "\n",
        "mode_class_index = df['Frequency'].idxmax()\n",
        "L_mode = int(df.loc[mode_class_index, 'ClassInterval'].split('-')[0])\n",
        "f1 = df.loc[mode_class_index, 'Frequency']\n",
        "f0 = df.loc[mode_class_index - 1, 'Frequency'] if mode_class_index != 0 else 0\n",
        "f2 = df.loc[mode_class_index + 1, 'Frequency'] if mode_class_index + 1 < len(df) else 0\n",
        "h_mode = int(df.loc[mode_class_index, 'ClassInterval'].split('-')[1]) - L_mode\n",
        "\n",
        "mode = L_mode + ((f1 - f0) / ((2*f1) - f0 - f2)) * h_mode\n",
        "\n",
        "\n",
        "print(f\"Mean of grouped data: {mean:.2f}\")\n",
        "print(f\"Median of grouped data: {median:.2f}\")\n",
        "print(f\"Mode of grouped data: {mode:.2f}\")\n"
      ],
      "metadata": {
        "colab": {
          "base_uri": "https://localhost:8080/"
        },
        "id": "DLQIGgzG3wHA",
        "outputId": "19b60d5a-87f8-4a31-c24e-ab2cc4aca7ca"
      },
      "execution_count": 13,
      "outputs": [
        {
          "output_type": "stream",
          "name": "stdout",
          "text": [
            "Mean of grouped data: 33.57\n",
            "Median of grouped data: 33.75\n",
            "Mode of grouped data: 34.44\n"
          ]
        }
      ]
    },
    {
      "cell_type": "markdown",
      "source": [
        "**Q14.Simulate data using Python and calculate its central tendency and dispersion.**"
      ],
      "metadata": {
        "id": "nrLnpUEJ3-76"
      }
    },
    {
      "cell_type": "code",
      "source": [
        "import numpy as np\n",
        "import pandas as pd\n",
        "from scipy import stats\n",
        "\n",
        "np.random.seed(42)\n",
        "data = np.random.normal(loc=50, scale=10, size=1000)\n",
        "\n",
        "series = pd.Series(data)\n",
        "\n",
        "mean = series.mean()\n",
        "median = series.median()\n",
        "mode = series.mode().iloc[0]\n",
        "\n",
        "variance = series.var()\n",
        "std_dev = series.std()\n",
        "data_range = series.max() - series.min()\n",
        "\n",
        "print(f\"Mean: {mean:.2f}\")\n",
        "print(f\"Median: {median:.2f}\")\n",
        "print(f\"Mode: {mode:.2f}\")\n",
        "print(f\"Variance: {variance:.2f}\")\n",
        "print(f\"Standard Deviation: {std_dev:.2f}\")\n",
        "print(f\"Range: {data_range:.2f}\")\n"
      ],
      "metadata": {
        "colab": {
          "base_uri": "https://localhost:8080/"
        },
        "id": "_hWD9vKN4Coq",
        "outputId": "7b146947-f656-47be-b1e8-4686b4aa7e6b"
      },
      "execution_count": 14,
      "outputs": [
        {
          "output_type": "stream",
          "name": "stdout",
          "text": [
            "Mean: 50.19\n",
            "Median: 50.25\n",
            "Mode: 17.59\n",
            "Variance: 95.89\n",
            "Standard Deviation: 9.79\n",
            "Range: 70.94\n"
          ]
        }
      ]
    },
    {
      "cell_type": "markdown",
      "source": [
        "**Q15.Use NumPy or pandas to summarize a dataset’s descriptive statistics.**"
      ],
      "metadata": {
        "id": "0ZEo1y6w4C-W"
      }
    },
    {
      "cell_type": "code",
      "source": [
        "import numpy as np\n",
        "import pandas as pd\n",
        "\n",
        "np.random.seed(42)\n",
        "data = np.random.normal(loc=50, scale=10, size=1000)\n",
        "\n",
        "series = pd.Series(data)\n",
        "\n",
        "summary = series.describe()\n",
        "print(summary)\n"
      ],
      "metadata": {
        "colab": {
          "base_uri": "https://localhost:8080/"
        },
        "id": "sDSk-TVf4TIa",
        "outputId": "4e1fff86-b18a-4205-b2f1-e16a1203eb38"
      },
      "execution_count": 15,
      "outputs": [
        {
          "output_type": "stream",
          "name": "stdout",
          "text": [
            "count    1000.000000\n",
            "mean       50.193321\n",
            "std         9.792159\n",
            "min        17.587327\n",
            "25%        43.524097\n",
            "50%        50.253006\n",
            "75%        56.479439\n",
            "max        88.527315\n",
            "dtype: float64\n"
          ]
        }
      ]
    },
    {
      "cell_type": "markdown",
      "source": [
        "**Q16. Plot a boxplot to understand the spread and identify outliers.**"
      ],
      "metadata": {
        "id": "ch9cCrO24SYL"
      }
    },
    {
      "cell_type": "code",
      "source": [
        "import numpy as np\n",
        "import pandas as pd\n",
        "import matplotlib.pyplot as plt\n",
        "import seaborn as sns\n",
        "\n",
        "np.random.seed(42)\n",
        "data = np.random.normal(loc=50, scale=10, size=1000)\n",
        "outliers = np.array([100, 110, 120])\n",
        "data_with_outliers = np.concatenate([data, outliers])\n",
        "\n",
        "series = pd.Series(data_with_outliers)\n",
        "\n",
        "plt.figure(figsize=(8, 5))\n",
        "sns.boxplot(x=series, color='lightblue')\n",
        "plt.title('Boxplot Showing Data Spread and Outliers')\n",
        "plt.xlabel('Values')\n",
        "plt.show()\n"
      ],
      "metadata": {
        "colab": {
          "base_uri": "https://localhost:8080/",
          "height": 487
        },
        "id": "fEez-p2F4mIA",
        "outputId": "db015e22-d5b5-4ba1-823f-e608d7d9f703"
      },
      "execution_count": 16,
      "outputs": [
        {
          "output_type": "display_data",
          "data": {
            "text/plain": [
              "<Figure size 800x500 with 1 Axes>"
            ],
            "image/png": "[encoded data removed]"
          },
          "metadata": {}
        }
      ]
    },
    {
      "cell_type": "markdown",
      "source": [
        "**Q17. Calculate the interquartile range (IQR) of a dataset.**"
      ],
      "metadata": {
        "id": "rgG2TLss4qbb"
      }
    },
    {
      "cell_type": "code",
      "source": [
        "import numpy as np\n",
        "\n",
        "data = [12, 7, 3, 14, 18, 22, 5, 9, 11, 17]\n",
        "\n",
        "Q1 = np.percentile(data, 25)\n",
        "Q3 = np.percentile(data, 75)\n",
        "\n",
        "IQR = Q3 - Q1\n",
        "\n",
        "print(f\"Q1 (25th percentile): {Q1}\")\n",
        "print(f\"Q3 (75th percentile): {Q3}\")\n",
        "print(f\"Interquartile Range (IQR): {IQR}\")\n"
      ],
      "metadata": {
        "colab": {
          "base_uri": "https://localhost:8080/"
        },
        "id": "5pZRyHpv40oy",
        "outputId": "af7571a9-bd53-4d79-81c4-a54c168bf2b5"
      },
      "execution_count": 17,
      "outputs": [
        {
          "output_type": "stream",
          "name": "stdout",
          "text": [
            "Q1 (25th percentile): 7.5\n",
            "Q3 (75th percentile): 16.25\n",
            "Interquartile Range (IQR): 8.75\n"
          ]
        }
      ]
    },
    {
      "cell_type": "markdown",
      "source": [
        "**Q18. Implement Z-score normalization and explain its significance.**"
      ],
      "metadata": {
        "id": "vL8qyEwh41MP"
      }
    },
    {
      "cell_type": "code",
      "source": [
        "import numpy as np\n",
        "\n",
        "data = np.array([10, 20, 30, 40, 50])\n",
        "\n",
        "mean = np.mean(data)\n",
        "std = np.std(data)\n",
        "\n",
        "z_scores = (data - mean) / std\n",
        "\n",
        "print(\"Original data:\", data)\n",
        "print(\"Mean:\", mean)\n",
        "print(\"Standard Deviation:\", std)\n",
        "print(\"Z-score normalized data:\", z_scores)\n"
      ],
      "metadata": {
        "colab": {
          "base_uri": "https://localhost:8080/"
        },
        "id": "_SQaWB325Az8",
        "outputId": "0fb906e4-9b6a-4b99-e04f-d7dd7f2ef20b"
      },
      "execution_count": 18,
      "outputs": [
        {
          "output_type": "stream",
          "name": "stdout",
          "text": [
            "Original data: [10 20 30 40 50]\n",
            "Mean: 30.0\n",
            "Standard Deviation: 14.142135623730951\n",
            "Z-score normalized data: [-1.41421356 -0.70710678  0.          0.70710678  1.41421356]\n"
          ]
        }
      ]
    },
    {
      "cell_type": "markdown",
      "source": [
        "**Q19.Compare two datasets using their standard deviations.**"
      ],
      "metadata": {
        "id": "zYBTzmh55Jva"
      }
    },
    {
      "cell_type": "code",
      "source": [
        "import numpy as np\n",
        "\n",
        "data1 = [10, 12, 14, 16, 18, 20]\n",
        "\n",
        "data2 = [5, 15, 25, 35, 45, 55]\n",
        "\n",
        "std_dev1 = np.std(data1, ddof=1)\n",
        "std_dev2 = np.std(data2, ddof=1)\n",
        "\n",
        "print(f\"Standard Deviation of Dataset 1: {std_dev1:.2f}\")\n",
        "print(f\"Standard Deviation of Dataset 2: {std_dev2:.2f}\")\n",
        "\n",
        "if std_dev1 > std_dev2:\n",
        "    print(\"Dataset 1 has greater variability.\")\n",
        "elif std_dev1 < std_dev2:\n",
        "    print(\"Dataset 2 has greater variability.\")\n",
        "else:\n",
        "    print(\"Both datasets have the same variability.\")\n"
      ],
      "metadata": {
        "colab": {
          "base_uri": "https://localhost:8080/"
        },
        "id": "ep8eCsHE5OOC",
        "outputId": "dafd2fdc-5001-44d7-d2fc-512ef1903de2"
      },
      "execution_count": 19,
      "outputs": [
        {
          "output_type": "stream",
          "name": "stdout",
          "text": [
            "Standard Deviation of Dataset 1: 3.74\n",
            "Standard Deviation of Dataset 2: 18.71\n",
            "Dataset 2 has greater variability.\n"
          ]
        }
      ]
    },
    {
      "cell_type": "markdown",
      "source": [
        "**Q20.Write a Python program to visualize covariance using a heatmap.**"
      ],
      "metadata": {
        "id": "L3ga4u_-5YIN"
      }
    },
    {
      "cell_type": "code",
      "source": [
        "import numpy as np\n",
        "import pandas as pd\n",
        "import seaborn as sns\n",
        "import matplotlib.pyplot as plt\n",
        "\n",
        "np.random.seed(42)\n",
        "data = {\n",
        "    'X': np.random.normal(0, 1, 100),\n",
        "    'Y': np.random.normal(5, 2, 100),\n",
        "    'Z': np.random.normal(-3, 5, 100)\n",
        "}\n",
        "\n",
        "df = pd.DataFrame(data)\n",
        "\n",
        "cov_matrix = df.cov()\n",
        "\n",
        "plt.figure(figsize=(6, 5))\n",
        "sns.heatmap(cov_matrix, annot=True, cmap='coolwarm', fmt=\".2f\")\n",
        "plt.title('Covariance Matrix Heatmap')\n",
        "plt.show()\n"
      ],
      "metadata": {
        "colab": {
          "base_uri": "https://localhost:8080/",
          "height": 468
        },
        "id": "8bj0apRQ5cpa",
        "outputId": "7e3249e7-0c9e-4cfb-9eb3-41a41baf5391"
      },
      "execution_count": 20,
      "outputs": [
        {
          "output_type": "display_data",
          "data": {
            "text/plain": [
              "<Figure size 600x500 with 2 Axes>"
            ],
            "image/png": "[encoded data removed]"
          },
          "metadata": {}
        }
      ]
    },
    {
      "cell_type": "markdown",
      "source": [
        "**Q21.Use seaborn to create a correlation matrix for a dataset.**"
      ],
      "metadata": {
        "id": "t4PWd-qb5mAz"
      }
    },
    {
      "cell_type": "code",
      "source": [
        "data = {\n",
        "    'A': np.random.normal(0, 1, 100),\n",
        "    'B': np.random.normal(5, 2, 100),\n",
        "    'C': np.random.normal(-3, 5, 100),\n",
        "    'D': np.random.normal(10, 3, 100)\n",
        "}\n",
        "\n",
        "df = pd.DataFrame(data)\n",
        "\n",
        "corr_matrix = df.corr()\n",
        "\n",
        "plt.figure(figsize=(7, 6))\n",
        "sns.heatmap(corr_matrix, annot=True, cmap='coolwarm', center=0, fmt=\".2f\")\n",
        "plt.title('Correlation Matrix Heatmap')\n",
        "plt.show()"
      ],
      "metadata": {
        "colab": {
          "base_uri": "https://localhost:8080/",
          "height": 545
        },
        "id": "ap6vyHWQ5qOI",
        "outputId": "6b86dd1a-c145-4337-b8bf-9da7a822527d"
      },
      "execution_count": 21,
      "outputs": [
        {
          "output_type": "display_data",
          "data": {
            "text/plain": [
              "<Figure size 700x600 with 2 Axes>"
            ],
            "image/png": "[encoded data removed]"
          },
          "metadata": {}
        }
      ]
    },
    {
      "cell_type": "markdown",
      "source": [
        "**Q22. Generate a dataset and implement both variance and standard deviation computations.**"
      ],
      "metadata": {
        "id": "6eYKuUCV50x6"
      }
    },
    {
      "cell_type": "code",
      "source": [
        "\n",
        "data = np.random.normal(loc=50, scale=15, size=100)\n",
        "\n",
        "variance = np.var(data, ddof=1)\n",
        "\n",
        "std_dev = np.std(data, ddof=1)\n",
        "\n",
        "print(f\"Variance: {variance:.2f}\")\n",
        "print(f\"Standard Deviation: {std_dev:.2f}\")\n"
      ],
      "metadata": {
        "colab": {
          "base_uri": "https://localhost:8080/"
        },
        "id": "VHyithbY56bv",
        "outputId": "79f0c4af-94f3-4232-d18a-dfe45be608ac"
      },
      "execution_count": 22,
      "outputs": [
        {
          "output_type": "stream",
          "name": "stdout",
          "text": [
            "Variance: 213.78\n",
            "Standard Deviation: 14.62\n"
          ]
        }
      ]
    },
    {
      "cell_type": "markdown",
      "source": [
        "**Q23. Visualize skewness and kurtosis using Python libraries like matplotlib or seaborn.**"
      ],
      "metadata": {
        "id": "gCYn3Pa-56q-"
      }
    },
    {
      "cell_type": "code",
      "source": [
        "ata = np.random.exponential(scale=2, size=1000)\n",
        "\n",
        "data_skewness = skew(data)\n",
        "data_kurtosis = kurtosis(data)\n",
        "\n",
        "plt.figure(figsize=(8, 5))\n",
        "sns.histplot(data, bins=30, kde=True, color='skyblue')\n",
        "plt.title('Histogram and KDE of Dataset')\n",
        "plt.xlabel('Value')\n",
        "plt.ylabel('Frequency')\n",
        "\n",
        "plt.text(x=max(data)*0.6, y=80, s=f'Skewness: {data_skewness:.2f}', fontsize=12)\n",
        "plt.text(x=max(data)*0.6, y=70, s=f'Kurtosis: {data_kurtosis:.2f}', fontsize=12)\n",
        "\n",
        "plt.show()\n"
      ],
      "metadata": {
        "colab": {
          "base_uri": "https://localhost:8080/",
          "height": 1000
        },
        "id": "Yr_SfXq96KCq",
        "outputId": "27921fc1-8bbe-473c-c201-c6b28620c45e"
      },
      "execution_count": 23,
      "outputs": [
        {
          "output_type": "display_data",
          "data": {
            "text/plain": [
              "<Figure size 800x500 with 1 Axes>"
            ],
            "image/png": "[encoded data removed]"
          },
          "metadata": {}
        }
      ]
    },
    {
      "cell_type": "markdown",
      "source": [
        "**Q24. Implement the Pearson and Spearman correlation coefficients for a dataset.**"
      ],
      "metadata": {
        "id": "y_OC2qCQ6Kbf"
      }
    },
    {
      "cell_type": "code",
      "source": [
        "import numpy as np\n",
        "import pandas as pd\n",
        "from scipy.stats import pearsonr, spearmanr\n",
        "\n",
        "\n",
        "np.random.seed(42)\n",
        "x = np.random.normal(0, 1, 100)\n",
        "y = 2 * x + np.random.normal(0, 1, 100)\n",
        "\n",
        "pearson_corr, pearson_p = pearsonr(x, y)\n",
        "\n",
        "spearman_corr, spearman_p = spearmanr(x, y)\n",
        "\n",
        "print(f\"Pearson correlation: {pearson_corr:.3f} (p-value: {pearson_p:.3f})\")\n",
        "print(f\"Spearman correlation: {spearman_corr:.3f} (p-value: {spearman_p:.3f})\")\n"
      ],
      "metadata": {
        "colab": {
          "base_uri": "https://localhost:8080/"
        },
        "id": "MpJSntIz6nkf",
        "outputId": "aa8ee85f-d782-458f-8b24-236320e755a9"
      },
      "execution_count": 25,
      "outputs": [
        {
          "output_type": "stream",
          "name": "stdout",
          "text": [
            "Pearson correlation: 0.872 (p-value: 0.000)\n",
            "Spearman correlation: 0.869 (p-value: 0.000)\n"
          ]
        }
      ]
    }
  ]
}